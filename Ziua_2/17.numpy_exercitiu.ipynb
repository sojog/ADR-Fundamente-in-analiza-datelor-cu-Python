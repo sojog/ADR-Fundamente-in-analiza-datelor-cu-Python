{
 "cells": [
  {
   "cell_type": "code",
   "execution_count": 2,
   "id": "376fc9cf",
   "metadata": {},
   "outputs": [],
   "source": [
    "import numpy as np"
   ]
  },
  {
   "cell_type": "markdown",
   "id": "71a918ce",
   "metadata": {},
   "source": [
    "# Creaţi un program care va genera aleatoriu 5 numere şi care la ieşire va genera un array în care fiecare element este mapat la True sau False dacă numărul este par sau respectiv impar."
   ]
  },
  {
   "cell_type": "code",
   "execution_count": 8,
   "id": "82cb7df1",
   "metadata": {},
   "outputs": [
    {
     "data": {
      "text/plain": [
       "64"
      ]
     },
     "execution_count": 8,
     "metadata": {},
     "output_type": "execute_result"
    }
   ],
   "source": [
    "np.random.randint(1, 100)"
   ]
  },
  {
   "cell_type": "code",
   "execution_count": 14,
   "id": "43e3a0a7",
   "metadata": {},
   "outputs": [
    {
     "data": {
      "text/plain": [
       "array([82, 21, 97,  1, 84])"
      ]
     },
     "execution_count": 14,
     "metadata": {},
     "output_type": "execute_result"
    }
   ],
   "source": [
    "array = np.random.randint(1, 100, 5)\n",
    "array"
   ]
  },
  {
   "cell_type": "code",
   "execution_count": 15,
   "id": "ce1ce4a3",
   "metadata": {},
   "outputs": [
    {
     "data": {
      "text/plain": [
       "np.int64(82)"
      ]
     },
     "execution_count": 15,
     "metadata": {},
     "output_type": "execute_result"
    }
   ],
   "source": [
    "array[0]"
   ]
  },
  {
   "cell_type": "code",
   "execution_count": 17,
   "id": "2810ea02",
   "metadata": {},
   "outputs": [
    {
     "name": "stdout",
     "output_type": "stream",
     "text": [
      "True\n"
     ]
    }
   ],
   "source": [
    "print(array[0] % 2 == 0)"
   ]
  },
  {
   "cell_type": "code",
   "execution_count": 18,
   "id": "74419160",
   "metadata": {},
   "outputs": [
    {
     "data": {
      "text/plain": [
       "array([ True, False, False, False,  True])"
      ]
     },
     "execution_count": 18,
     "metadata": {},
     "output_type": "execute_result"
    }
   ],
   "source": [
    "array % 2 == 0"
   ]
  },
  {
   "cell_type": "code",
   "execution_count": 20,
   "id": "779aa445",
   "metadata": {},
   "outputs": [],
   "source": [
    "lista = [82, 21, 97,  1, 84]\n"
   ]
  },
  {
   "cell_type": "code",
   "execution_count": 21,
   "id": "6c9ec952",
   "metadata": {},
   "outputs": [
    {
     "data": {
      "text/plain": [
       "array([82, 84])"
      ]
     },
     "execution_count": 21,
     "metadata": {},
     "output_type": "execute_result"
    }
   ],
   "source": [
    "array[ array % 2 == 0 ]"
   ]
  },
  {
   "cell_type": "code",
   "execution_count": 22,
   "id": "5d7ddf11",
   "metadata": {},
   "outputs": [
    {
     "data": {
      "text/plain": [
       "array([82, 84])"
      ]
     },
     "execution_count": 22,
     "metadata": {},
     "output_type": "execute_result"
    }
   ],
   "source": [
    "conditie = array % 2 == 0\n",
    "\n",
    "array[ conditie ]"
   ]
  },
  {
   "cell_type": "code",
   "execution_count": 25,
   "id": "3c60c928",
   "metadata": {},
   "outputs": [
    {
     "data": {
      "text/plain": [
       "array([82, 84])"
      ]
     },
     "execution_count": 25,
     "metadata": {},
     "output_type": "execute_result"
    }
   ],
   "source": [
    "conditie_pare = array % 2 == 0\n",
    "\n",
    "array_pare = array[ conditie_pare ]\n",
    "array_pare"
   ]
  },
  {
   "cell_type": "code",
   "execution_count": 26,
   "id": "b1a1559a",
   "metadata": {},
   "outputs": [
    {
     "data": {
      "text/plain": [
       "array([21, 97,  1])"
      ]
     },
     "execution_count": 26,
     "metadata": {},
     "output_type": "execute_result"
    }
   ],
   "source": [
    "conditie_impare = array % 2 != 0\n",
    "\n",
    "array_impare = array[ conditie_impare ]\n",
    "array_impare"
   ]
  },
  {
   "cell_type": "code",
   "execution_count": 27,
   "id": "ecc60a4c",
   "metadata": {},
   "outputs": [
    {
     "data": {
      "text/plain": [
       "[np.int64(82), np.int64(84)]"
      ]
     },
     "execution_count": 27,
     "metadata": {},
     "output_type": "execute_result"
    }
   ],
   "source": [
    "list(array_pare)"
   ]
  },
  {
   "cell_type": "code",
   "execution_count": 30,
   "id": "cd8a2cc0",
   "metadata": {},
   "outputs": [
    {
     "name": "stdout",
     "output_type": "stream",
     "text": [
      "21\n"
     ]
    }
   ],
   "source": [
    "print(list(array_impare)[0])"
   ]
  },
  {
   "cell_type": "code",
   "execution_count": 32,
   "id": "9803a2bb",
   "metadata": {},
   "outputs": [
    {
     "data": {
      "text/plain": [
       "int"
      ]
     },
     "execution_count": 32,
     "metadata": {},
     "output_type": "execute_result"
    }
   ],
   "source": [
    "x = 10\n",
    "type(x)"
   ]
  },
  {
   "cell_type": "code",
   "execution_count": 33,
   "id": "854810ef",
   "metadata": {},
   "outputs": [
    {
     "data": {
      "text/plain": [
       "10.0"
      ]
     },
     "execution_count": 33,
     "metadata": {},
     "output_type": "execute_result"
    }
   ],
   "source": [
    "float(x)"
   ]
  },
  {
   "cell_type": "code",
   "execution_count": 40,
   "id": "12277b45",
   "metadata": {},
   "outputs": [
    {
     "data": {
      "text/plain": [
       "np.int64(10)"
      ]
     },
     "execution_count": 40,
     "metadata": {},
     "output_type": "execute_result"
    }
   ],
   "source": [
    "x = np.int64(x)\n",
    "x"
   ]
  },
  {
   "cell_type": "code",
   "execution_count": 41,
   "id": "a5649baa",
   "metadata": {},
   "outputs": [
    {
     "data": {
      "text/plain": [
       "np.float64(5.0)"
      ]
     },
     "execution_count": 41,
     "metadata": {},
     "output_type": "execute_result"
    }
   ],
   "source": [
    "x / 2"
   ]
  },
  {
   "cell_type": "code",
   "execution_count": 42,
   "id": "79b74c60",
   "metadata": {},
   "outputs": [
    {
     "data": {
      "text/plain": [
       "np.int64(100)"
      ]
     },
     "execution_count": 42,
     "metadata": {},
     "output_type": "execute_result"
    }
   ],
   "source": [
    "x ** 2"
   ]
  },
  {
   "cell_type": "code",
   "execution_count": 44,
   "id": "a71a9790",
   "metadata": {},
   "outputs": [
    {
     "data": {
      "text/plain": [
       "np.float64(11.899999999999999)"
      ]
     },
     "execution_count": 44,
     "metadata": {},
     "output_type": "execute_result"
    }
   ],
   "source": [
    "x * np.float64(1.19)"
   ]
  },
  {
   "cell_type": "markdown",
   "id": "9a1d3621",
   "metadata": {},
   "source": [
    "# De această dată verificați dacă numărele generate sunt pare, impare și/sau divizibile cu 3. Adăugați-le în trei liste (pare, impare, divizibile cu 3). Comparați lungimea celor 3 liste."
   ]
  },
  {
   "cell_type": "code",
   "execution_count": 45,
   "id": "da8fa682",
   "metadata": {},
   "outputs": [
    {
     "data": {
      "text/plain": [
       "array([13, 82, 99, 55, 67, 45, 71, 40, 22, 10])"
      ]
     },
     "execution_count": 45,
     "metadata": {},
     "output_type": "execute_result"
    }
   ],
   "source": [
    "array = np.random.randint(1, 100, 10)\n",
    "array"
   ]
  },
  {
   "cell_type": "code",
   "execution_count": 47,
   "id": "0f383339",
   "metadata": {},
   "outputs": [],
   "source": [
    "pare = array[array % 2 == 0]\n",
    "impare = array[array % 2 == 1]\n",
    "divizibile_cu_3 = array[array % 3 == 0]"
   ]
  },
  {
   "cell_type": "code",
   "execution_count": 48,
   "id": "05337c4d",
   "metadata": {},
   "outputs": [
    {
     "data": {
      "text/plain": [
       "(array([82, 40, 22, 10]), array([13, 99, 55, 67, 45, 71]), array([99, 45]))"
      ]
     },
     "execution_count": 48,
     "metadata": {},
     "output_type": "execute_result"
    }
   ],
   "source": [
    "pare, impare, divizibile_cu_3"
   ]
  },
  {
   "cell_type": "code",
   "execution_count": 53,
   "id": "ef85af21",
   "metadata": {},
   "outputs": [
    {
     "data": {
      "text/plain": [
       "array([99, 45])"
      ]
     },
     "execution_count": 53,
     "metadata": {},
     "output_type": "execute_result"
    }
   ],
   "source": [
    "impare_divizibile_cu_3 = array[(array % 2 == 1) & (array % 3 == 0)]\n",
    "impare_divizibile_cu_3"
   ]
  },
  {
   "cell_type": "code",
   "execution_count": 55,
   "id": "fade7051",
   "metadata": {},
   "outputs": [
    {
     "data": {
      "text/plain": [
       "array([99, 45])"
      ]
     },
     "execution_count": 55,
     "metadata": {},
     "output_type": "execute_result"
    }
   ],
   "source": [
    "conditia_impare = array % 2 == 1\n",
    "conditia_div_3 = array % 3 == 0\n",
    "\n",
    "impare_divizibile_cu_3 = array[conditia_impare & conditia_div_3]\n",
    "impare_divizibile_cu_3"
   ]
  }
 ],
 "metadata": {
  "kernelspec": {
   "display_name": "Python 3",
   "language": "python",
   "name": "python3"
  },
  "language_info": {
   "codemirror_mode": {
    "name": "ipython",
    "version": 3
   },
   "file_extension": ".py",
   "mimetype": "text/x-python",
   "name": "python",
   "nbconvert_exporter": "python",
   "pygments_lexer": "ipython3",
   "version": "3.12.0"
  }
 },
 "nbformat": 4,
 "nbformat_minor": 5
}
