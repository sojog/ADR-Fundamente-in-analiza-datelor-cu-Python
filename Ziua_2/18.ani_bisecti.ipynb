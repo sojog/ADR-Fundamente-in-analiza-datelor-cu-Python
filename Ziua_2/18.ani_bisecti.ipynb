{
 "cells": [
  {
   "cell_type": "code",
   "execution_count": 4,
   "id": "b66089db",
   "metadata": {},
   "outputs": [],
   "source": [
    "import numpy as np"
   ]
  },
  {
   "cell_type": "code",
   "execution_count": 5,
   "id": "2a73c116",
   "metadata": {},
   "outputs": [
    {
     "data": {
      "text/plain": [
       "array([0, 1, 2, 3, 4, 5, 6, 7, 8, 9])"
      ]
     },
     "execution_count": 5,
     "metadata": {},
     "output_type": "execute_result"
    }
   ],
   "source": [
    "np.arange(10)"
   ]
  },
  {
   "cell_type": "code",
   "execution_count": 7,
   "id": "97a9125b",
   "metadata": {},
   "outputs": [
    {
     "name": "stdout",
     "output_type": "stream",
     "text": [
      "Anii bisecți între 1900 și 2023 sunt: [1904 1908 1912 1916 1920 1924 1928 1932 1936 1940 1944 1948 1952 1956\n",
      " 1960 1964 1968 1972 1976 1980 1984 1988 1992 1996 2000 2004 2008 2012\n",
      " 2016 2020]\n"
     ]
    }
   ],
   "source": [
    "\n",
    "# Definirea variabilelor start.Date și end.Date\n",
    "start_date = 1900\n",
    "end_date = 2023\n",
    "\n",
    "# Generarea listei de ani în intervalul specificat\n",
    "years = np.arange(start_date, end_date + 1)\n",
    "\n",
    "# Filtrarea anilor bisecți (divizibili cu 400 sau cu 4, dar care nu sunt divizibili cu 100)\n",
    "leap_years = years[(years % 400 == 0) | ((years % 4 == 0) & (years % 100 != 0))]\n",
    "\n",
    "# Afișarea listei anilor bisecți\n",
    "print(\"Anii bisecți între\", start_date, \"și\", end_date, \"sunt:\", leap_years)"
   ]
  },
  {
   "cell_type": "code",
   "execution_count": 9,
   "id": "9c303e1c",
   "metadata": {},
   "outputs": [
    {
     "name": "stdout",
     "output_type": "stream",
     "text": [
      "Anii bisecți între 1900 și 2023 sunt: [1904 1908 1912 1916 1920 1924 1928 1932 1936 1940 1944 1948 1952 1956\n",
      " 1960 1964 1968 1972 1976 1980 1984 1988 1992 1996 2000 2004 2008 2012\n",
      " 2016 2020]\n"
     ]
    }
   ],
   "source": [
    "# Definirea variabilelor start.Date și end.Date\n",
    "start_date = 1900\n",
    "end_date = 2023\n",
    "\n",
    "# Generarea listei de ani în intervalul specificat\n",
    "years = np.arange(start_date, end_date + 1)\n",
    "\n",
    "divizibile_cu_400 = years % 400 == 0\n",
    "divizibile_cu_4   = years % 4   == 0\n",
    "nedivizibile_cu_100 = years % 100 != 0\n",
    "\n",
    "# Filtrarea anilor bisecți (divizibili cu 400 sau cu 4, dar care nu sunt divizibili cu 100)\n",
    "leap_years = years[divizibile_cu_400 | (divizibile_cu_4  & nedivizibile_cu_100)]\n",
    "\n",
    "# Afișarea listei anilor bisecți\n",
    "print(\"Anii bisecți între\", start_date, \"și\", end_date, \"sunt:\", leap_years)"
   ]
  }
 ],
 "metadata": {
  "kernelspec": {
   "display_name": "Python 3",
   "language": "python",
   "name": "python3"
  },
  "language_info": {
   "codemirror_mode": {
    "name": "ipython",
    "version": 3
   },
   "file_extension": ".py",
   "mimetype": "text/x-python",
   "name": "python",
   "nbconvert_exporter": "python",
   "pygments_lexer": "ipython3",
   "version": "3.12.0"
  }
 },
 "nbformat": 4,
 "nbformat_minor": 5
}
